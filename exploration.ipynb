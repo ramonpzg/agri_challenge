{
 "cells": [
  {
   "cell_type": "markdown",
   "id": "19b89505-7681-41c0-a04c-0825db2b0e4f",
   "metadata": {},
   "source": [
    "# Exploration"
   ]
  },
  {
   "cell_type": "code",
   "execution_count": 132,
   "id": "71446146-5b6b-4fa3-ad76-cd87e4deb53e",
   "metadata": {
    "tags": []
   },
   "outputs": [],
   "source": [
    "import pandas as pd\n",
    "import json\n",
    "from pprint import pprint\n",
    "from glob import glob\n",
    "from os.path import join\n",
    "from random import choice\n",
    "from sklearn import metrics as m"
   ]
  },
  {
   "cell_type": "markdown",
   "id": "7c39cb47-5170-446b-bdf6-fbdb076551e4",
   "metadata": {},
   "source": [
    "Let's begin by grabbing all of the files in each directory and evaluating a random sample."
   ]
  },
  {
   "cell_type": "code",
   "execution_count": 152,
   "id": "d4bb7dd2-d06a-48ea-8478-c88e5b9a452d",
   "metadata": {
    "tags": []
   },
   "outputs": [
    {
     "data": {
      "text/plain": [
       "['data/raw/predictions/6105_dbbe9a43-d891-4b7a-b048-4adbae7b5c36_2022_01_06.json',\n",
       " 'data/raw/predictions/7002_d259766e-d9bc-499e-8b54-a9e0eac33e92_2022_01_20.json',\n",
       " 'data/raw/predictions/7002_d8c71f90-ddd5-42ac-b7cf-ab81d24f9916_2022_01_11.json',\n",
       " 'data/raw/predictions/7002_7fba6770-f78d-4054-9643-45277523d7cd_2022_01_26.json']"
      ]
     },
     "execution_count": 152,
     "metadata": {},
     "output_type": "execute_result"
    }
   ],
   "source": [
    "actuals = glob(join(\"data\", \"raw\", \"ground_truth\", \"*.json\"))\n",
    "predicted = glob(join(\"data\", \"raw\", \"predictions\", \"*.json\"))\n",
    "predicted[:4]"
   ]
  },
  {
   "cell_type": "code",
   "execution_count": 153,
   "id": "d4964cb1-b36c-4686-b545-8d07d633cd95",
   "metadata": {
    "tags": []
   },
   "outputs": [
    {
     "data": {
      "text/plain": [
       "'data/raw/ground_truth/7002_04fe0e08-ed2b-4fb6-bc8f-68174a83b5fb_2022_01_11.json'"
      ]
     },
     "execution_count": 153,
     "metadata": {},
     "output_type": "execute_result"
    }
   ],
   "source": [
    "random_sample = choice(actuals)\n",
    "random_sample"
   ]
  },
  {
   "cell_type": "markdown",
   "id": "75669597-871e-4fa7-83dd-2a741bdf3e87",
   "metadata": {},
   "source": [
    "Let's start by evaluating a sample."
   ]
  },
  {
   "cell_type": "code",
   "execution_count": 147,
   "id": "f19365be-35bd-42c0-a193-95f8833ca26c",
   "metadata": {
    "tags": []
   },
   "outputs": [
    {
     "name": "stdout",
     "output_type": "stream",
     "text": [
      "{'annotations': [{'bounding_box': {'h': 127.0,\n",
      "                                   'w': 368.0,\n",
      "                                   'x': 2579.0,\n",
      "                                   'y': 310.0},\n",
      "                  'id': 'c0803b85-dcae-4379-bcc8-bd2a197e25a6',\n",
      "                  'name': 'Alternaria spp.',\n",
      "                  'slot_names': ['0']},\n",
      "                 {'bounding_box': {'h': 324.0,\n",
      "                                   'w': 204.0,\n",
      "                                   'x': 208.0,\n",
      "                                   'y': 1692.0},\n",
      "                  'id': '9fdd7a8c-3595-4221-b93a-377d7734f500',\n",
      "                  'name': 'Alternaria spp.',\n",
      "                  'slot_names': ['0']}],\n",
      " 'item': {'name': '6105_eec1e5b6-1a80-44a2-9f66-5f5e550ba9d4_2022_01_25.jpeg',\n",
      "          'path': '/',\n",
      "          'slots': [{'height': 3040,\n",
      "                     'slot_name': '0',\n",
      "                     'source_files': [{'file_name': '6105_eec1e5b6-1a80-44a2-9f66-5f5e550ba9d4_2022_01_25.jpeg',\n",
      "                                       'url': 'https://darwin.v7labs.com/api/v2/teams/bioscout/uploads/9df4d3d8-a631-44bc-a6a0-ab21f5fcb61f'}],\n",
      "                     'thumbnail_url': 'https://darwin.v7labs.com/api/v2/teams/bioscout/files/cd9e0688-a52f-4aad-93a3-8de716dc2621/thumbnail',\n",
      "                     'type': 'image',\n",
      "                     'width': 4064}],\n",
      "          'source_info': {'dataset': {'dataset_management_url': 'https://darwin.v7labs.com/datasets/538883/dataset-management',\n",
      "                                      'name': 'alternaria',\n",
      "                                      'slug': 'alternaria'},\n",
      "                          'item_id': '0183d477-6025-7808-1d38-26c98f7953dc',\n",
      "                          'team': {'name': 'BioScout', 'slug': 'bioscout'},\n",
      "                          'workview_url': 'https://darwin.v7labs.com/workview?dataset=538883&item=0183d477-6025-7808-1d38-26c98f7953dc'}},\n",
      " 'schema_ref': 'https://darwin-public.s3.eu-west-1.amazonaws.com/darwin_json_2_0.schema.json',\n",
      " 'version': '2.0'}\n"
     ]
    }
   ],
   "source": [
    "with open(random_sample, \"r\") as sample:\n",
    "    data = json.load(sample)\n",
    "pprint(data)"
   ]
  },
  {
   "cell_type": "raw",
   "id": "f9944044-cdfd-4d38-9b54-236b51cb9166",
   "metadata": {},
   "source": [
    "Let's look at the prediction for the same image."
   ]
  },
  {
   "cell_type": "code",
   "execution_count": 155,
   "id": "8a47415f-b377-406b-bcfe-f1fd1641a464",
   "metadata": {
    "tags": []
   },
   "outputs": [
    {
     "name": "stdout",
     "output_type": "stream",
     "text": [
      "{'annotations': [{'bounding_box': {'h': 123.0,\n",
      "                                   'w': 253.0,\n",
      "                                   'x': 3655.0,\n",
      "                                   'y': 609.0},\n",
      "                  'id': '6adce333-cd9b-4545-9954-b2cd37ddd585',\n",
      "                  'name': 'Alternaria spp.',\n",
      "                  'slot_names': ['0']}],\n",
      " 'item': {'name': '7002_04fe0e08-ed2b-4fb6-bc8f-68174a83b5fb_2022_01_11.jpeg',\n",
      "          'path': '/',\n",
      "          'slots': [{'height': 3040,\n",
      "                     'slot_name': '0',\n",
      "                     'source_files': [{'file_name': '7002_04fe0e08-ed2b-4fb6-bc8f-68174a83b5fb_2022_01_11.jpeg',\n",
      "                                       'url': 'https://darwin.v7labs.com/api/v2/teams/bioscout/uploads/3e7f3272-c137-4be2-9518-270a772cc802'}],\n",
      "                     'thumbnail_url': 'https://darwin.v7labs.com/api/v2/teams/bioscout/files/672c43cb-98b2-47d6-9b97-dc5419396e6e/thumbnail',\n",
      "                     'type': 'image',\n",
      "                     'width': 4064}],\n",
      "          'source_info': {'dataset': {'dataset_management_url': 'https://darwin.v7labs.com/datasets/538883/dataset-management',\n",
      "                                      'name': 'alternaria',\n",
      "                                      'slug': 'alternaria'},\n",
      "                          'item_id': '0183d477-6028-c8a8-01c5-2c7369c9cd5d',\n",
      "                          'team': {'name': 'BioScout', 'slug': 'bioscout'},\n",
      "                          'workview_url': 'https://darwin.v7labs.com/workview?dataset=538883&item=0183d477-6028-c8a8-01c5-2c7369c9cd5d'}},\n",
      " 'schema_ref': 'https://darwin-public.s3.eu-west-1.amazonaws.com/darwin_json_2_0.schema.json',\n",
      " 'version': '2.0'}\n"
     ]
    }
   ],
   "source": [
    "random_prediction = join(\"data\", \"raw\", \"predictions\", random_sample.split(\"/\")[-1])\n",
    "\n",
    "with open(random_prediction, \"r\") as sample:\n",
    "    data = json.load(sample)\n",
    "pprint(data)"
   ]
  },
  {
   "cell_type": "markdown",
   "id": "34a5e355-1758-43a9-8529-2feef8c8d308",
   "metadata": {},
   "source": [
    "If we go to the [`schema_ref` url](https://darwin-public.s3.eu-west-1.amazonaws.com/darwin_json_2_0.schema.json) that comes up in the JSON file above, we can find more information about the files we are dealing with. Nonetheless, while the classification task at hand is one with bounding boxes rather than **\"yes\"**, there are infectious spores in this sample, or **\"no\"**, there aren't any, we can still trea it as binary classification task by using the absence, or the lack thereof, the annotated boxes.\n",
    "\n",
    "Let's see how many samples lack an annotation for one or more bounding boxex from the ground truth sample."
   ]
  },
  {
   "cell_type": "code",
   "execution_count": 165,
   "id": "af3bcd05-15be-4d7e-b1cc-b728927a4b52",
   "metadata": {
    "tags": []
   },
   "outputs": [
    {
     "name": "stdout",
     "output_type": "stream",
     "text": [
      "The ground truth sample has 707 images with at least one instance of a decease, 45 are healthy, and 0 are unclear!\n"
     ]
    }
   ],
   "source": [
    "goods = 0\n",
    "bads = 0\n",
    "not_sure = 0\n",
    "bad_plants = []\n",
    "\n",
    "for file in actuals:\n",
    "    with open(file, \"r\") as s:\n",
    "        ac = json.load(s)\n",
    "        if ac[\"annotations\"]:\n",
    "            goods += 1\n",
    "        elif ac[\"annotations\"] == []:\n",
    "            bads += 1\n",
    "            bad_plants.append(file)\n",
    "        else:\n",
    "            not_sure += 1\n",
    "            bad_plants.append(file)\n",
    "print(f\"The ground truth sample has {goods} images with at least one instance of a decease, {bads} are healthy, and {not_sure} are unclear!\")"
   ]
  },
  {
   "cell_type": "code",
   "execution_count": 166,
   "id": "30664a98-6908-458e-ab9f-ce3b3a4d2c80",
   "metadata": {
    "tags": []
   },
   "outputs": [
    {
     "name": "stdout",
     "output_type": "stream",
     "text": [
      "{'annotations': [],\n",
      " 'item': {'name': '6107_a611a543-a21d-4000-abfe-a2e958d007e2_2022_01_15.jpeg',\n",
      "          'path': '/',\n",
      "          'slots': [{'height': 3040,\n",
      "                     'slot_name': '0',\n",
      "                     'source_files': [{'file_name': '6107_a611a543-a21d-4000-abfe-a2e958d007e2_2022_01_15.jpeg',\n",
      "                                       'url': 'https://darwin.v7labs.com/api/v2/teams/bioscout/uploads/d90c28aa-cce8-4732-9426-757134de9d62'}],\n",
      "                     'thumbnail_url': 'https://darwin.v7labs.com/api/v2/teams/bioscout/files/2bb07fb6-9f42-4a43-9853-720bced8bfc6/thumbnail',\n",
      "                     'type': 'image',\n",
      "                     'width': 4064}],\n",
      "          'source_info': {'dataset': {'dataset_management_url': 'https://darwin.v7labs.com/datasets/538883/dataset-management',\n",
      "                                      'name': 'alternaria',\n",
      "                                      'slug': 'alternaria'},\n",
      "                          'item_id': '0183d477-6694-51ff-ca26-00c57c4d1136',\n",
      "                          'team': {'name': 'BioScout', 'slug': 'bioscout'},\n",
      "                          'workview_url': 'https://darwin.v7labs.com/workview?dataset=538883&item=0183d477-6694-51ff-ca26-00c57c4d1136'}},\n",
      " 'schema_ref': 'https://darwin-public.s3.eu-west-1.amazonaws.com/darwin_json_2_0.schema.json',\n",
      " 'version': '2.0'}\n"
     ]
    }
   ],
   "source": [
    "with open(choice(bad_plants), \"r\") as s:\n",
    "    pprint(json.load(s))"
   ]
  },
  {
   "cell_type": "code",
   "execution_count": 171,
   "id": "ed6a66a0-0091-484b-a467-e52d084e820e",
   "metadata": {
    "scrolled": true,
    "tags": []
   },
   "outputs": [],
   "source": [
    "for file in bad_plants:\n",
    "    with open(file, \"r\") as s:\n",
    "        pprint(json.load(s)[\"annotations\"])"
   ]
  },
  {
   "cell_type": "markdown",
   "id": "d35a512d-2d98-4f89-9b23-e1d9de6b0290",
   "metadata": {},
   "source": [
    "Now that we know a bit about the files we're dealing with, let's create a few functions to programmatically extract, transform, load, and evaluate all of them.\n",
    "\n",
    "Since we'll need to save files here and there throughout the steps, we'll start with a straightforward load function that takes in a dataframe and saves a parquet file."
   ]
  },
  {
   "cell_type": "code",
   "execution_count": null,
   "id": "5b235dfe-c9e3-4425-8601-e167d6f4f87a",
   "metadata": {},
   "outputs": [],
   "source": []
  },
  {
   "cell_type": "code",
   "execution_count": null,
   "id": "1f4f9361-4ea4-46f7-98e0-8933d747153a",
   "metadata": {},
   "outputs": [],
   "source": []
  },
  {
   "cell_type": "code",
   "execution_count": null,
   "id": "a054ef67-0d8a-4444-89f3-49ea47c38e05",
   "metadata": {},
   "outputs": [],
   "source": []
  },
  {
   "cell_type": "code",
   "execution_count": null,
   "id": "53bd9d83-f6aa-4f52-8338-38f612ef1741",
   "metadata": {},
   "outputs": [],
   "source": []
  },
  {
   "cell_type": "code",
   "execution_count": 192,
   "id": "13007f2b-2212-43b3-b4e3-22cfa3d97fab",
   "metadata": {
    "tags": []
   },
   "outputs": [],
   "source": [
    "def get_files(directory, regex_pattern):\n",
    "    return glob(join(directory, regex_pattern))\n",
    "\n",
    "\n",
    "def read_files(data_files: str) -> pd.DataFrame:\n",
    "        \n",
    "    dfs_list = []\n",
    "    \n",
    "    for file in data_files:    \n",
    "        with open(file, \"r\") as sample:\n",
    "            data = json.load(sample)\n",
    "\n",
    "        item = data[\"item\"]['name']\n",
    "\n",
    "        if data[\"annotations\"]:\n",
    "            anno_name = data[\"annotations\"][0][\"name\"]\n",
    "        else:\n",
    "            anno_name = \"Undetected\"\n",
    "        \n",
    "        df = pd.DataFrame(data=[[item, anno_name]], columns=[\"item_id\", \"class\"])\n",
    "        dfs_list.append(df)\n",
    "    \n",
    "    return pd.concat(dfs_list, axis=0)"
   ]
  },
  {
   "cell_type": "markdown",
   "id": "c8a6f300-74e2-41c9-95af-aa4369ff3168",
   "metadata": {},
   "source": [
    "Let's make sure our functions work."
   ]
  },
  {
   "cell_type": "code",
   "execution_count": 193,
   "id": "ba77c265-aec9-41c9-bb93-4059f3fe4b01",
   "metadata": {
    "tags": []
   },
   "outputs": [
    {
     "data": {
      "text/plain": [
       "['data/raw/ground_truth/6105_dbbe9a43-d891-4b7a-b048-4adbae7b5c36_2022_01_06.json',\n",
       " 'data/raw/ground_truth/7002_d259766e-d9bc-499e-8b54-a9e0eac33e92_2022_01_20.json',\n",
       " 'data/raw/ground_truth/7002_d8c71f90-ddd5-42ac-b7cf-ab81d24f9916_2022_01_11.json',\n",
       " 'data/raw/ground_truth/7002_7fba6770-f78d-4054-9643-45277523d7cd_2022_01_26.json',\n",
       " 'data/raw/ground_truth/6107_e475a371-228b-4e77-913b-38e0579d2837_2022_01_23.json']"
      ]
     },
     "execution_count": 193,
     "metadata": {},
     "output_type": "execute_result"
    }
   ],
   "source": [
    "actuals = get_files(\"data/raw/ground_truth/\", \"*.json\")\n",
    "actuals[:5]"
   ]
  },
  {
   "cell_type": "code",
   "execution_count": 194,
   "id": "3adc8155-4c03-4d10-ac0f-974d5274c162",
   "metadata": {
    "tags": []
   },
   "outputs": [
    {
     "data": {
      "text/html": [
       "<div>\n",
       "<style scoped>\n",
       "    .dataframe tbody tr th:only-of-type {\n",
       "        vertical-align: middle;\n",
       "    }\n",
       "\n",
       "    .dataframe tbody tr th {\n",
       "        vertical-align: top;\n",
       "    }\n",
       "\n",
       "    .dataframe thead th {\n",
       "        text-align: right;\n",
       "    }\n",
       "</style>\n",
       "<table border=\"1\" class=\"dataframe\">\n",
       "  <thead>\n",
       "    <tr style=\"text-align: right;\">\n",
       "      <th></th>\n",
       "      <th>item_id</th>\n",
       "      <th>class</th>\n",
       "    </tr>\n",
       "  </thead>\n",
       "  <tbody>\n",
       "    <tr>\n",
       "      <th>0</th>\n",
       "      <td>6105_dbbe9a43-d891-4b7a-b048-4adbae7b5c36_2022...</td>\n",
       "      <td>Alternaria spp.</td>\n",
       "    </tr>\n",
       "    <tr>\n",
       "      <th>0</th>\n",
       "      <td>7002_d259766e-d9bc-499e-8b54-a9e0eac33e92_2022...</td>\n",
       "      <td>Alternaria spp.</td>\n",
       "    </tr>\n",
       "    <tr>\n",
       "      <th>0</th>\n",
       "      <td>7002_d8c71f90-ddd5-42ac-b7cf-ab81d24f9916_2022...</td>\n",
       "      <td>Alternaria spp.</td>\n",
       "    </tr>\n",
       "    <tr>\n",
       "      <th>0</th>\n",
       "      <td>7002_7fba6770-f78d-4054-9643-45277523d7cd_2022...</td>\n",
       "      <td>Alternaria spp.</td>\n",
       "    </tr>\n",
       "    <tr>\n",
       "      <th>0</th>\n",
       "      <td>6107_e475a371-228b-4e77-913b-38e0579d2837_2022...</td>\n",
       "      <td>Alternaria spp.</td>\n",
       "    </tr>\n",
       "    <tr>\n",
       "      <th>0</th>\n",
       "      <td>7002_44f7ae6c-27ff-4ea9-8ebf-7cf068161f69_2022...</td>\n",
       "      <td>Alternaria spp.</td>\n",
       "    </tr>\n",
       "    <tr>\n",
       "      <th>0</th>\n",
       "      <td>7002_ba67585b-8317-469c-b8eb-2f85b671fe53_2022...</td>\n",
       "      <td>Alternaria spp.</td>\n",
       "    </tr>\n",
       "    <tr>\n",
       "      <th>0</th>\n",
       "      <td>7002_cddf3cc2-2411-4cb1-9985-b5d3fef4c170_2022...</td>\n",
       "      <td>Undetected</td>\n",
       "    </tr>\n",
       "    <tr>\n",
       "      <th>0</th>\n",
       "      <td>6105_e5bbad9e-d694-4f2c-804c-b64072813055_2022...</td>\n",
       "      <td>Alternaria spp.</td>\n",
       "    </tr>\n",
       "    <tr>\n",
       "      <th>0</th>\n",
       "      <td>6105_5f2ab12b-22e6-4c31-90f8-605aab2663bf_2022...</td>\n",
       "      <td>Alternaria spp.</td>\n",
       "    </tr>\n",
       "  </tbody>\n",
       "</table>\n",
       "</div>"
      ],
      "text/plain": [
       "                                             item_id            class\n",
       "0  6105_dbbe9a43-d891-4b7a-b048-4adbae7b5c36_2022...  Alternaria spp.\n",
       "0  7002_d259766e-d9bc-499e-8b54-a9e0eac33e92_2022...  Alternaria spp.\n",
       "0  7002_d8c71f90-ddd5-42ac-b7cf-ab81d24f9916_2022...  Alternaria spp.\n",
       "0  7002_7fba6770-f78d-4054-9643-45277523d7cd_2022...  Alternaria spp.\n",
       "0  6107_e475a371-228b-4e77-913b-38e0579d2837_2022...  Alternaria spp.\n",
       "0  7002_44f7ae6c-27ff-4ea9-8ebf-7cf068161f69_2022...  Alternaria spp.\n",
       "0  7002_ba67585b-8317-469c-b8eb-2f85b671fe53_2022...  Alternaria spp.\n",
       "0  7002_cddf3cc2-2411-4cb1-9985-b5d3fef4c170_2022...       Undetected\n",
       "0  6105_e5bbad9e-d694-4f2c-804c-b64072813055_2022...  Alternaria spp.\n",
       "0  6105_5f2ab12b-22e6-4c31-90f8-605aab2663bf_2022...  Alternaria spp."
      ]
     },
     "execution_count": 194,
     "metadata": {},
     "output_type": "execute_result"
    }
   ],
   "source": [
    "read_files(actuals).head(10)"
   ]
  },
  {
   "cell_type": "markdown",
   "id": "59dbc114-6ccc-4d5f-b0f0-ebdee28ac62b",
   "metadata": {},
   "source": [
    "Excellent! We'll save the function in our src directory and start preparing a package in case we come up with new functions for extracting data, or in case we want to update our current ones."
   ]
  },
  {
   "cell_type": "code",
   "execution_count": null,
   "id": "ca897f64-eed3-43e8-8295-6fb4a6f4a32f",
   "metadata": {},
   "outputs": [],
   "source": [
    "%%writefile src/etl/extract.py\n",
    "\n",
    "import pandas as pd\n",
    "from os.path import join\n",
    "from glob import glob\n",
    "from load import save_data\n",
    "\n",
    "def get_files(directory, regex_pattern):\n",
    "    return glob(join(directory, regex_pattern))\n",
    "\n",
    "\n",
    "def read_files(data_files: str) -> pd.DataFrame:\n",
    "        \n",
    "    dfs_list = []\n",
    "    \n",
    "    for file in data_files:    \n",
    "        with open(file, \"r\") as sample:\n",
    "            data = json.load(sample)\n",
    "\n",
    "        item = data[\"item\"]['name']\n",
    "\n",
    "        if data[\"annotations\"]:\n",
    "            anno_name = data[\"annotations\"][0][\"name\"]\n",
    "        else:\n",
    "            anno_name = \"Undetected\"\n",
    "        \n",
    "        df = pd.DataFrame(data=[[item, anno_name]], columns=[\"item_id\", \"class\"])\n",
    "        dfs_list.append(df)\n",
    "    \n",
    "    return pd.concat(dfs_list, axis=0)\n",
    "\n",
    "if __name__ == \"__main__\":\n",
    "    files = get_files(\"data/raw/ground_truth/\", \"*.json\")\n",
    "    df = read_files(files)\n",
    "    save_data()"
   ]
  },
  {
   "cell_type": "code",
   "execution_count": 49,
   "id": "60f1e7b9-2e9f-402c-9e07-c1be64f1238c",
   "metadata": {
    "tags": []
   },
   "outputs": [
    {
     "data": {
      "text/html": [
       "<div>\n",
       "<style scoped>\n",
       "    .dataframe tbody tr th:only-of-type {\n",
       "        vertical-align: middle;\n",
       "    }\n",
       "\n",
       "    .dataframe tbody tr th {\n",
       "        vertical-align: top;\n",
       "    }\n",
       "\n",
       "    .dataframe thead th {\n",
       "        text-align: right;\n",
       "    }\n",
       "</style>\n",
       "<table border=\"1\" class=\"dataframe\">\n",
       "  <thead>\n",
       "    <tr style=\"text-align: right;\">\n",
       "      <th></th>\n",
       "      <th>item_id</th>\n",
       "      <th>class_truth</th>\n",
       "      <th>class_pred</th>\n",
       "    </tr>\n",
       "  </thead>\n",
       "  <tbody>\n",
       "    <tr>\n",
       "      <th>0</th>\n",
       "      <td>6105_dbbe9a43-d891-4b7a-b048-4adbae7b5c36_2022...</td>\n",
       "      <td>Alternaria spp.</td>\n",
       "      <td>Alternaria spp.</td>\n",
       "    </tr>\n",
       "    <tr>\n",
       "      <th>1</th>\n",
       "      <td>7002_d259766e-d9bc-499e-8b54-a9e0eac33e92_2022...</td>\n",
       "      <td>Alternaria spp.</td>\n",
       "      <td>Alternaria spp.</td>\n",
       "    </tr>\n",
       "    <tr>\n",
       "      <th>2</th>\n",
       "      <td>7002_d8c71f90-ddd5-42ac-b7cf-ab81d24f9916_2022...</td>\n",
       "      <td>Alternaria spp.</td>\n",
       "      <td>Alternaria spp.</td>\n",
       "    </tr>\n",
       "    <tr>\n",
       "      <th>3</th>\n",
       "      <td>7002_7fba6770-f78d-4054-9643-45277523d7cd_2022...</td>\n",
       "      <td>Alternaria spp.</td>\n",
       "      <td>Alternaria spp.</td>\n",
       "    </tr>\n",
       "    <tr>\n",
       "      <th>4</th>\n",
       "      <td>6107_e475a371-228b-4e77-913b-38e0579d2837_2022...</td>\n",
       "      <td>Alternaria spp.</td>\n",
       "      <td>Alternaria spp.</td>\n",
       "    </tr>\n",
       "  </tbody>\n",
       "</table>\n",
       "</div>"
      ],
      "text/plain": [
       "                                             item_id      class_truth  \\\n",
       "0  6105_dbbe9a43-d891-4b7a-b048-4adbae7b5c36_2022...  Alternaria spp.   \n",
       "1  7002_d259766e-d9bc-499e-8b54-a9e0eac33e92_2022...  Alternaria spp.   \n",
       "2  7002_d8c71f90-ddd5-42ac-b7cf-ab81d24f9916_2022...  Alternaria spp.   \n",
       "3  7002_7fba6770-f78d-4054-9643-45277523d7cd_2022...  Alternaria spp.   \n",
       "4  6107_e475a371-228b-4e77-913b-38e0579d2837_2022...  Alternaria spp.   \n",
       "\n",
       "        class_pred  \n",
       "0  Alternaria spp.  \n",
       "1  Alternaria spp.  \n",
       "2  Alternaria spp.  \n",
       "3  Alternaria spp.  \n",
       "4  Alternaria spp.  "
      ]
     },
     "execution_count": 49,
     "metadata": {},
     "output_type": "execute_result"
    }
   ],
   "source": [
    "first = []\n",
    "second = []\n",
    "\n",
    "for truth in actuals:\n",
    "    first.append(read_file(truth))\n",
    "    \n",
    "for pred in predicted:\n",
    "    second.append(read_file(pred))\n",
    "    \n",
    "df_true = build_df(first)\n",
    "df_false = build_df(second)\n",
    "df = pd.merge(left=df_true, right=df_false, left_on=\"item_id\", right_on=\"item_id\", suffixes=(\"_truth\", \"_pred\"))\n",
    "df.head()"
   ]
  },
  {
   "cell_type": "code",
   "execution_count": 52,
   "id": "f96d61c3-2575-43b9-a891-6cb077e30359",
   "metadata": {},
   "outputs": [
    {
     "data": {
      "text/plain": [
       "Alternaria spp.    733\n",
       "Undetected          19\n",
       "Name: class_pred, dtype: int64"
      ]
     },
     "execution_count": 52,
     "metadata": {},
     "output_type": "execute_result"
    }
   ],
   "source": [
    "df.class_pred.value_counts()"
   ]
  },
  {
   "cell_type": "markdown",
   "id": "467cdcf2-250f-44aa-b5ca-b9af84a3644e",
   "metadata": {},
   "source": [
    "Now that we have done a bit of preprocessing, let's get started answering the questions for the challenge."
   ]
  },
  {
   "cell_type": "markdown",
   "id": "4b7d8fa7-c591-4465-be16-1d6907a8722b",
   "metadata": {},
   "source": [
    "## Confusion Matrix"
   ]
  },
  {
   "cell_type": "markdown",
   "id": "d02bd901-da25-460e-b8b9-55e50c7756a3",
   "metadata": {},
   "source": [
    "The fastest way to get started analyzing the results coming out of a classification model is via a "
   ]
  },
  {
   "cell_type": "code",
   "execution_count": 89,
   "id": "b59653f8-8c13-4e2d-b068-366c25425dc2",
   "metadata": {},
   "outputs": [],
   "source": [
    "from sklearn.metrics import confusion_matrix, ConfusionMatrixDisplay\n",
    "import matplotlib.pyplot as plt\n",
    "import numpy as np"
   ]
  },
  {
   "cell_type": "code",
   "execution_count": 148,
   "id": "f72996ad-89d5-4064-be59-ec38d3ed58ce",
   "metadata": {
    "tags": []
   },
   "outputs": [
    {
     "data": {
      "text/plain": [
       "array([[688,  19],\n",
       "       [ 45,   0]])"
      ]
     },
     "execution_count": 148,
     "metadata": {},
     "output_type": "execute_result"
    }
   ],
   "source": [
    "mtx = confusion_matrix(df.class_truth, df.class_pred)\n",
    "mtx"
   ]
  },
  {
   "cell_type": "code",
   "execution_count": 151,
   "id": "5dadaaa9-e210-4496-8430-f7535b839f2f",
   "metadata": {
    "tags": []
   },
   "outputs": [
    {
     "data": {
      "image/png": "[encoded data removed]",
      "text/plain": [
       "<Figure size 640x480 with 1 Axes>"
      ]
     },
     "metadata": {},
     "output_type": "display_data"
    }
   ],
   "source": [
    "conf = ConfusionMatrixDisplay(mtx)\n",
    "conf.plot(colorbar=False, );"
   ]
  },
  {
   "cell_type": "markdown",
   "id": "f65cf1a8-bd60-47ee-a6a7-e2496b1c087e",
   "metadata": {},
   "source": [
    "## F1 Score"
   ]
  },
  {
   "cell_type": "markdown",
   "id": "b109daf4-22e1-416e-bb0b-ec0277b4e3a7",
   "metadata": {},
   "source": [
    "**What is an F1 Score?**\n",
    "\n",
    "> The F1 score is a measure of a model's accuracy that combines the precision and recall metrics into a single score. It takes into account both false positives and false negatives, making it a useful metric for evaluating models that deal with imbalanced classes.\n",
    "\n",
    "- $tp$ - True Positives\n",
    "- $tn$ - True Negatives\n",
    "- $fp$ - False Positives\n",
    "- $fn$ - False Negatives\n",
    "\n",
    "**F1 Formula**\n",
    "\n",
    "$f1 = \\frac{tp}{tp + \\frac{1}{2}(fp + fn)}$\n",
    "\n",
    "Here are a few examples of how the F1 score is calculated:\n",
    "\n",
    "In a binary classification problem, suppose a model classified 100 samples, 90 of which were actual positives and 10 were actual negatives. Of these, the model correctly predicted 85 of the positives and 5 of the negatives. The precision and recall scores are:\n",
    "\n",
    "precision = 85 / (85 + 5) = 0.944 recall = 85 / 90 = 0.944\n",
    "\n",
    "The F1 score is calculated as 2 * precision * recall / (precision + recall) = 0.944."
   ]
  },
  {
   "cell_type": "code",
   "execution_count": 68,
   "id": "79b1d145-6064-405b-b635-23790db7ed0a",
   "metadata": {
    "tags": []
   },
   "outputs": [
    {
     "data": {
      "text/plain": [
       "0.9555555555555555"
      ]
     },
     "execution_count": 68,
     "metadata": {},
     "output_type": "execute_result"
    }
   ],
   "source": [
    "m.f1_score(df.class_truth, df.class_pred, pos_label='Alternaria spp.')"
   ]
  },
  {
   "cell_type": "markdown",
   "id": "0a1405ce-5ad2-4feb-92c3-8bb92cc37993",
   "metadata": {},
   "source": [
    "## Accuracy"
   ]
  },
  {
   "cell_type": "code",
   "execution_count": 63,
   "id": "74d57c63-194f-43c5-8a99-00aba20ee142",
   "metadata": {
    "tags": []
   },
   "outputs": [
    {
     "data": {
      "text/plain": [
       "0.9148936170212766"
      ]
     },
     "execution_count": 63,
     "metadata": {},
     "output_type": "execute_result"
    }
   ],
   "source": [
    "m.accuracy_score(df.class_truth, df.class_pred)"
   ]
  },
  {
   "cell_type": "markdown",
   "id": "8c09a6a4-9f17-4417-82ad-1631c64e570e",
   "metadata": {},
   "source": [
    "## Precision"
   ]
  },
  {
   "cell_type": "code",
   "execution_count": 65,
   "id": "b0908c8b-a887-4642-a8d3-c058aeadbb75",
   "metadata": {
    "tags": []
   },
   "outputs": [
    {
     "data": {
      "text/plain": [
       "(Alternaria spp.    707\n",
       " Undetected          45\n",
       " Name: class_truth, dtype: int64,\n",
       " Alternaria spp.    733\n",
       " Undetected          19\n",
       " Name: class_pred, dtype: int64)"
      ]
     },
     "execution_count": 65,
     "metadata": {},
     "output_type": "execute_result"
    }
   ],
   "source": [
    "df.class_truth.value_counts(), df.class_pred.value_counts()"
   ]
  },
  {
   "cell_type": "code",
   "execution_count": 66,
   "id": "a83c60a6-4ffa-49c7-bdfa-14c737aed4b3",
   "metadata": {
    "tags": []
   },
   "outputs": [
    {
     "data": {
      "text/plain": [
       "0.9386084583901774"
      ]
     },
     "execution_count": 66,
     "metadata": {},
     "output_type": "execute_result"
    }
   ],
   "source": [
    "m.precision_score(df.class_truth, df.class_pred, pos_label='Alternaria spp.')"
   ]
  },
  {
   "cell_type": "markdown",
   "id": "dbd116d6-8faf-4fb5-b663-e518bc4cb43e",
   "metadata": {},
   "source": [
    "## Recall/Sensitivity"
   ]
  },
  {
   "cell_type": "code",
   "execution_count": null,
   "id": "fda73b22-3711-49a0-8bcd-52146e6472a2",
   "metadata": {
    "tags": []
   },
   "outputs": [
    {
     "data": {
      "text/plain": [
       "0.9731258840169731"
      ]
     },
     "execution_count": 69,
     "metadata": {},
     "output_type": "execute_result"
    }
   ],
   "source": [
    "m.recall_score(df.class_truth, df.class_pred, pos_label='Alternaria spp.')"
   ]
  },
  {
   "cell_type": "markdown",
   "id": "abf09930-757f-465d-9c22-179ff22b8abc",
   "metadata": {},
   "source": [
    "## Specificity"
   ]
  },
  {
   "cell_type": "code",
   "execution_count": 71,
   "id": "dd46e257-b7d2-4963-b2ee-69bceb0e77be",
   "metadata": {
    "tags": []
   },
   "outputs": [
    {
     "data": {
      "text/plain": [
       "36.21052631578947"
      ]
     },
     "execution_count": 71,
     "metadata": {},
     "output_type": "execute_result"
    }
   ],
   "source": [
    "mtx[0][0] / (mtx[0][1] + mtx[1][1])"
   ]
  },
  {
   "cell_type": "code",
   "execution_count": 72,
   "id": "957cff98-e1c3-459d-874a-d64ac097d883",
   "metadata": {
    "tags": []
   },
   "outputs": [
    {
     "data": {
      "text/plain": [
       "(752, 3)"
      ]
     },
     "execution_count": 72,
     "metadata": {},
     "output_type": "execute_result"
    }
   ],
   "source": [
    "df.shape"
   ]
  },
  {
   "cell_type": "code",
   "execution_count": 76,
   "id": "dbb2f868-b976-4c19-ac28-c2164769d468",
   "metadata": {
    "tags": []
   },
   "outputs": [
    {
     "data": {
      "text/plain": [
       "752"
      ]
     },
     "execution_count": 76,
     "metadata": {},
     "output_type": "execute_result"
    }
   ],
   "source": [
    "len(predicted)"
   ]
  },
  {
   "cell_type": "code",
   "execution_count": null,
   "id": "53aac2d2-c75a-4f76-a176-b85e67117022",
   "metadata": {},
   "outputs": [],
   "source": []
  }
 ],
 "metadata": {
  "kernelspec": {
   "display_name": "Python 3 (ipykernel)",
   "language": "python",
   "name": "python3"
  },
  "language_info": {
   "codemirror_mode": {
    "name": "ipython",
    "version": 3
   },
   "file_extension": ".py",
   "mimetype": "text/x-python",
   "name": "python",
   "nbconvert_exporter": "python",
   "pygments_lexer": "ipython3",
   "version": "3.10.9"
  }
 },
 "nbformat": 4,
 "nbformat_minor": 5
}
