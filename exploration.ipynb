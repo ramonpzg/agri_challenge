{
 "cells": [
  {
   "cell_type": "markdown",
   "id": "19b89505-7681-41c0-a04c-0825db2b0e4f",
   "metadata": {},
   "source": [
    "# Exploration"
   ]
  },
  {
   "cell_type": "code",
   "execution_count": 1,
   "id": "71446146-5b6b-4fa3-ad76-cd87e4deb53e",
   "metadata": {
    "tags": []
   },
   "outputs": [],
   "source": [
    "import pandas as pd\n",
    "import json\n",
    "from pprint import pprint\n",
    "from glob import glob"
   ]
  },
  {
   "cell_type": "code",
   "execution_count": 3,
   "id": "d4bb7dd2-d06a-48ea-8478-c88e5b9a452d",
   "metadata": {
    "tags": []
   },
   "outputs": [],
   "source": [
    "actuals = glob(\"ground_truth/*.json\")\n",
    "predicted = glob(\"predictions/*.json\")"
   ]
  },
  {
   "cell_type": "code",
   "execution_count": 24,
   "id": "ce9a985f-4ee0-496b-a8bf-d7e615730fd9",
   "metadata": {
    "tags": []
   },
   "outputs": [],
   "source": [
    "from time import sleep"
   ]
  },
  {
   "cell_type": "code",
   "execution_count": 39,
   "id": "af3bcd05-15be-4d7e-b1cc-b728927a4b52",
   "metadata": {
    "scrolled": true,
    "tags": []
   },
   "outputs": [
    {
     "name": "stdout",
     "output_type": "stream",
     "text": [
      "The ground truth DF has 707 images with decease and 0 healthy, and 45 unclear!\n"
     ]
    }
   ],
   "source": [
    "goods = 0\n",
    "bads = 0\n",
    "not_sure = 0\n",
    "bad_plant = []\n",
    "for file in actuals:\n",
    "    with open(file, \"r\") as s:\n",
    "        ac = json.load(s)\n",
    "        if ac[\"annotations\"]:\n",
    "            goods += 1\n",
    "        elif ac[\"annotations\"] == None:\n",
    "            bads =+ 1\n",
    "            bad_plant.append(file)\n",
    "        else:\n",
    "            not_sure += 1\n",
    "            bad_plant.append(file)\n",
    "print(f\"The ground truth DF has {goods} images with decease and {bads} healthy, and {not_sure} unclear!\")"
   ]
  },
  {
   "cell_type": "code",
   "execution_count": 40,
   "id": "30664a98-6908-458e-ab9f-ce3b3a4d2c80",
   "metadata": {
    "tags": []
   },
   "outputs": [
    {
     "data": {
      "text/plain": [
       "['ground_truth/7002_cddf3cc2-2411-4cb1-9985-b5d3fef4c170_2022_01_19.json',\n",
       " 'ground_truth/6105_d46d7f8a-4738-4248-8acb-d7835182ca5c_2022_01_23.json',\n",
       " 'ground_truth/7002_224f951b-f160-4749-8331-58df6a1e2208_2022_01_29.json',\n",
       " 'ground_truth/6105_c207d7b8-91a0-488d-b402-8182989b1693_2022_01_26.json',\n",
       " 'ground_truth/7002_854c89cf-a44b-4140-aac2-62cb6328583f_2022_01_14.json',\n",
       " 'ground_truth/6105_200570e9-c6cd-4218-9553-569c44331323_2022_01_21.json',\n",
       " 'ground_truth/7002_910d593a-38bb-4de2-a0d8-ce94ec0a0dac_2022_01_15.json',\n",
       " 'ground_truth/6105_3f21cf40-7c57-4f2b-843e-ddbf5bfb7c7b_2022_01_10.json',\n",
       " 'ground_truth/6105_f302665a-d4bb-4505-92a3-6e34308fb323_2022_01_12.json',\n",
       " 'ground_truth/6105_2d1b9fd0-4754-4365-ae9b-5c2f037983c9_2022_01_21.json',\n",
       " 'ground_truth/6105_a212ee9c-ef86-4207-9a66-6d5dec7c42e8_2022_01_16.json',\n",
       " 'ground_truth/6107_2d4a8bd9-a712-46b5-912b-1cf9c0784ea9_2022_01_24.json',\n",
       " 'ground_truth/6107_a04f20e0-501a-4257-9f2a-b3621ba42f7e_2022_01_10.json',\n",
       " 'ground_truth/7002_27d9951d-dcdc-4e97-a776-a4c905313164_2022_01_11.json',\n",
       " 'ground_truth/7002_78dbd566-fd2c-4bf7-89ee-dfa84f2476b1_2022_01_11.json',\n",
       " 'ground_truth/6107_38ea515e-8394-4297-9df2-d80c285954db_2022_01_24.json',\n",
       " 'ground_truth/6105_7ce12f5e-2dce-4271-9f66-064a1b48d723_2022_01_15.json',\n",
       " 'ground_truth/6105_d40060ac-cf9e-4f41-8b88-bdd72830a918_2022_01_10.json',\n",
       " 'ground_truth/7002_3ce1102c-0734-4657-8c22-46185b05f861_2022_01_21.json',\n",
       " 'ground_truth/6105_12f954e2-2fda-47a3-8219-1aa9909248cd_2022_01_28.json',\n",
       " 'ground_truth/6105_9ff47c35-a945-4d0b-a70f-89796c6d70ea_2022_01_25.json',\n",
       " 'ground_truth/6105_10274987-fbb1-440b-922f-4277dd30f6d8_2022_01_17.json',\n",
       " 'ground_truth/6105_11e68e47-b102-408d-b2ca-64cbfc0f21aa_2022_01_14.json',\n",
       " 'ground_truth/6107_a611a543-a21d-4000-abfe-a2e958d007e2_2022_01_15.json',\n",
       " 'ground_truth/7002_a0e2a7d3-a434-461e-b864-533abceb6640_2022_01_19.json',\n",
       " 'ground_truth/6105_a6677900-96f7-43dd-800c-745b465a282b_2022_01_17.json',\n",
       " 'ground_truth/6105_c2c1ad55-6d11-4b3d-bf54-1d4e4959ac89_2022_01_26.json',\n",
       " 'ground_truth/6105_4928ae95-f1f3-48d1-a8a1-94c5ed55e76c_2022_01_17.json',\n",
       " 'ground_truth/6107_0c84d57a-ef95-4abe-8332-591ecd5249ae_2022_01_10.json',\n",
       " 'ground_truth/6105_101cd4dc-2c28-44f9-bbdc-fd2b7826f500_2022_01_19.json',\n",
       " 'ground_truth/6105_16a0907f-ec19-4a8a-b1d5-f45075ff6707_2022_01_19.json',\n",
       " 'ground_truth/6105_f0b630e5-0fa7-4c09-b984-84a3e30ab6d2_2022_01_17.json',\n",
       " 'ground_truth/7002_cdc73c28-1393-4481-aa34-07530c1fb8ba_2022_01_14.json',\n",
       " 'ground_truth/6105_1aae8bb8-28e5-4624-90ce-941fdc4c0e86_2022_01_17.json',\n",
       " 'ground_truth/6105_d9cc30b2-37c3-4179-9392-ad48a4cccee3_2022_01_17.json',\n",
       " 'ground_truth/7002_91d9762c-3175-4b63-b462-c45b0e5c3933_2022_01_29.json',\n",
       " 'ground_truth/7002_3fc05de9-98a4-411e-89a4-50a2ce8da5dc_2022_01_26.json',\n",
       " 'ground_truth/6105_082cd40d-4c60-4715-bc03-5a504b16b284_2022_01_13.json',\n",
       " 'ground_truth/6105_da41e7b7-b7da-45b4-b074-2aead868e777_2022_01_05.json',\n",
       " 'ground_truth/6105_b5ae7c32-2ca6-4d67-bed9-d7b9d4b237ad_2022_01_16.json',\n",
       " 'ground_truth/7002_6bd0e3fd-f207-45f7-82d7-1efde9728e78_2022_01_30.json',\n",
       " 'ground_truth/6105_17cc0744-4008-4be6-b47b-a37f9594275e_2022_01_13.json',\n",
       " 'ground_truth/7002_68173ef3-f3ed-4c7a-b99c-73f1fe53f8af_2022_01_20.json',\n",
       " 'ground_truth/7002_347495c4-51f4-4c5f-9506-c1fad55eaec9_2022_01_11.json',\n",
       " 'ground_truth/7002_0b836f0e-42ac-45dc-903a-91c3ad02ed7b_2022_01_15.json']"
      ]
     },
     "execution_count": 40,
     "metadata": {},
     "output_type": "execute_result"
    }
   ],
   "source": [
    "bad_plant"
   ]
  },
  {
   "cell_type": "code",
   "execution_count": 41,
   "id": "5df3acd9-e26c-4b34-a8d1-450fdfd38af3",
   "metadata": {
    "tags": []
   },
   "outputs": [
    {
     "name": "stdout",
     "output_type": "stream",
     "text": [
      "{'annotations': [],\n",
      " 'item': {'name': '7002_0b836f0e-42ac-45dc-903a-91c3ad02ed7b_2022_01_15.jpeg',\n",
      "          'path': '/',\n",
      "          'slots': [{'height': 3040,\n",
      "                     'slot_name': '0',\n",
      "                     'source_files': [{'file_name': '7002_0b836f0e-42ac-45dc-903a-91c3ad02ed7b_2022_01_15.jpeg',\n",
      "                                       'url': 'https://darwin.v7labs.com/api/v2/teams/bioscout/uploads/8b9d872e-5563-465e-9503-946acc9a8723'}],\n",
      "                     'thumbnail_url': 'https://darwin.v7labs.com/api/v2/teams/bioscout/files/0349dcab-f3f4-4ac4-b281-7234978b8a42/thumbnail',\n",
      "                     'type': 'image',\n",
      "                     'width': 4064}],\n",
      "          'source_info': {'dataset': {'dataset_management_url': 'https://darwin.v7labs.com/datasets/538883/dataset-management',\n",
      "                                      'name': 'alternaria',\n",
      "                                      'slug': 'alternaria'},\n",
      "                          'item_id': '0183d477-5678-3145-8538-10d93241eb96',\n",
      "                          'team': {'name': 'BioScout', 'slug': 'bioscout'},\n",
      "                          'workview_url': 'https://darwin.v7labs.com/workview?dataset=538883&item=0183d477-5678-3145-8538-10d93241eb96'}},\n",
      " 'schema_ref': 'https://darwin-public.s3.eu-west-1.amazonaws.com/darwin_json_2_0.schema.json',\n",
      " 'version': '2.0'}\n"
     ]
    }
   ],
   "source": [
    "with open('ground_truth/7002_0b836f0e-42ac-45dc-903a-91c3ad02ed7b_2022_01_15.json', \"r\") as sample:\n",
    "    data = json.load(sample)\n",
    "pprint(data)"
   ]
  },
  {
   "cell_type": "code",
   "execution_count": 42,
   "id": "8bd8ad36-596e-4118-b5a0-a5aa85dfacbe",
   "metadata": {
    "tags": []
   },
   "outputs": [
    {
     "name": "stdout",
     "output_type": "stream",
     "text": [
      "{'annotations': [{'bounding_box': {'h': 155.0,\n",
      "                                   'w': 387.0,\n",
      "                                   'x': 616.0,\n",
      "                                   'y': 1295.0},\n",
      "                  'id': 'ff24ad80-3f06-444d-b400-f95c88278ec6',\n",
      "                  'name': 'Alternaria spp.',\n",
      "                  'slot_names': ['0']}],\n",
      " 'item': {'name': '7002_0b836f0e-42ac-45dc-903a-91c3ad02ed7b_2022_01_15.jpeg',\n",
      "          'path': '/',\n",
      "          'slots': [{'height': 3040,\n",
      "                     'slot_name': '0',\n",
      "                     'source_files': [{'file_name': '7002_0b836f0e-42ac-45dc-903a-91c3ad02ed7b_2022_01_15.jpeg',\n",
      "                                       'url': 'https://darwin.v7labs.com/api/v2/teams/bioscout/uploads/8b9d872e-5563-465e-9503-946acc9a8723'}],\n",
      "                     'thumbnail_url': 'https://darwin.v7labs.com/api/v2/teams/bioscout/files/0349dcab-f3f4-4ac4-b281-7234978b8a42/thumbnail',\n",
      "                     'type': 'image',\n",
      "                     'width': 4064}],\n",
      "          'source_info': {'dataset': {'dataset_management_url': 'https://darwin.v7labs.com/datasets/538883/dataset-management',\n",
      "                                      'name': 'alternaria',\n",
      "                                      'slug': 'alternaria'},\n",
      "                          'item_id': '0183d477-5678-3145-8538-10d93241eb96',\n",
      "                          'team': {'name': 'BioScout', 'slug': 'bioscout'},\n",
      "                          'workview_url': 'https://darwin.v7labs.com/workview?dataset=538883&item=0183d477-5678-3145-8538-10d93241eb96'}},\n",
      " 'schema_ref': 'https://darwin-public.s3.eu-west-1.amazonaws.com/darwin_json_2_0.schema.json',\n",
      " 'version': '2.0'}\n"
     ]
    }
   ],
   "source": [
    "with open('predictions/7002_0b836f0e-42ac-45dc-903a-91c3ad02ed7b_2022_01_15.json', \"r\") as sample:\n",
    "    data = json.load(sample)\n",
    "pprint(data)"
   ]
  },
  {
   "cell_type": "code",
   "execution_count": 35,
   "id": "0c315f55-7658-4a06-a09d-705b6ab59e19",
   "metadata": {
    "tags": []
   },
   "outputs": [
    {
     "data": {
      "text/plain": [
       "'Alternaria spp.'"
      ]
     },
     "execution_count": 35,
     "metadata": {},
     "output_type": "execute_result"
    }
   ],
   "source": [
    "data[\"annotations\"][0][\"name\"]"
   ]
  },
  {
   "cell_type": "code",
   "execution_count": 31,
   "id": "13007f2b-2212-43b3-b4e3-22cfa3d97fab",
   "metadata": {
    "tags": []
   },
   "outputs": [],
   "source": [
    "def read_file(json_file):\n",
    "    with open(json_file, \"r\") as sample:\n",
    "        data = json.load(sample)\n",
    "    \n",
    "    item = data[\"item\"]['source_info'][\"item_id\"]\n",
    "    name = data[\"item\"][\"source_info\"]['dataset'][\"name\"]\n",
    "    anno_name = data[\"annotations\"][0][\"name\"]\n",
    "    \n",
    "    return pd.DataFrame(data=[[anno_name, item, name]], columns=[\"anno_name\", \"item_id\", \"name\"])\n",
    "\n",
    "def build_df(data_list):\n",
    "    return pd.concat(data_list, axis=0)"
   ]
  },
  {
   "cell_type": "code",
   "execution_count": 32,
   "id": "60f1e7b9-2e9f-402c-9e07-c1be64f1238c",
   "metadata": {
    "tags": []
   },
   "outputs": [
    {
     "ename": "IndexError",
     "evalue": "list index out of range",
     "output_type": "error",
     "traceback": [
      "\u001b[0;31m---------------------------------------------------------------------------\u001b[0m",
      "\u001b[0;31mIndexError\u001b[0m                                Traceback (most recent call last)",
      "Cell \u001b[0;32mIn[32], line 5\u001b[0m\n\u001b[1;32m      2\u001b[0m second \u001b[38;5;241m=\u001b[39m []\n\u001b[1;32m      4\u001b[0m \u001b[38;5;28;01mfor\u001b[39;00m truth \u001b[38;5;129;01min\u001b[39;00m actuals:\n\u001b[0;32m----> 5\u001b[0m     first\u001b[38;5;241m.\u001b[39mappend(\u001b[43mread_file\u001b[49m\u001b[43m(\u001b[49m\u001b[43mtruth\u001b[49m\u001b[43m)\u001b[49m)\n\u001b[1;32m      7\u001b[0m \u001b[38;5;28;01mfor\u001b[39;00m pred \u001b[38;5;129;01min\u001b[39;00m predicted:\n\u001b[1;32m      8\u001b[0m     second\u001b[38;5;241m.\u001b[39mappend(read_file(pred))\n",
      "Cell \u001b[0;32mIn[31], line 7\u001b[0m, in \u001b[0;36mread_file\u001b[0;34m(json_file)\u001b[0m\n\u001b[1;32m      5\u001b[0m item \u001b[38;5;241m=\u001b[39m data[\u001b[38;5;124m\"\u001b[39m\u001b[38;5;124mitem\u001b[39m\u001b[38;5;124m\"\u001b[39m][\u001b[38;5;124m'\u001b[39m\u001b[38;5;124msource_info\u001b[39m\u001b[38;5;124m'\u001b[39m][\u001b[38;5;124m\"\u001b[39m\u001b[38;5;124mitem_id\u001b[39m\u001b[38;5;124m\"\u001b[39m]\n\u001b[1;32m      6\u001b[0m name \u001b[38;5;241m=\u001b[39m data[\u001b[38;5;124m\"\u001b[39m\u001b[38;5;124mitem\u001b[39m\u001b[38;5;124m\"\u001b[39m][\u001b[38;5;124m\"\u001b[39m\u001b[38;5;124msource_info\u001b[39m\u001b[38;5;124m\"\u001b[39m][\u001b[38;5;124m'\u001b[39m\u001b[38;5;124mdataset\u001b[39m\u001b[38;5;124m'\u001b[39m][\u001b[38;5;124m\"\u001b[39m\u001b[38;5;124mname\u001b[39m\u001b[38;5;124m\"\u001b[39m]\n\u001b[0;32m----> 7\u001b[0m anno_name \u001b[38;5;241m=\u001b[39m \u001b[43mdata\u001b[49m\u001b[43m[\u001b[49m\u001b[38;5;124;43m\"\u001b[39;49m\u001b[38;5;124;43mannotations\u001b[39;49m\u001b[38;5;124;43m\"\u001b[39;49m\u001b[43m]\u001b[49m\u001b[43m[\u001b[49m\u001b[38;5;241;43m0\u001b[39;49m\u001b[43m]\u001b[49m[\u001b[38;5;124m\"\u001b[39m\u001b[38;5;124mname\u001b[39m\u001b[38;5;124m\"\u001b[39m]\n\u001b[1;32m      9\u001b[0m \u001b[38;5;28;01mreturn\u001b[39;00m pd\u001b[38;5;241m.\u001b[39mDataFrame(data\u001b[38;5;241m=\u001b[39m[[anno_name, item, name]], columns\u001b[38;5;241m=\u001b[39m[\u001b[38;5;124m\"\u001b[39m\u001b[38;5;124manno_name\u001b[39m\u001b[38;5;124m\"\u001b[39m, \u001b[38;5;124m\"\u001b[39m\u001b[38;5;124mitem_id\u001b[39m\u001b[38;5;124m\"\u001b[39m, \u001b[38;5;124m\"\u001b[39m\u001b[38;5;124mname\u001b[39m\u001b[38;5;124m\"\u001b[39m])\n",
      "\u001b[0;31mIndexError\u001b[0m: list index out of range"
     ]
    }
   ],
   "source": [
    "first = []\n",
    "second = []\n",
    "\n",
    "for truth in actuals:\n",
    "    first.append(read_file(truth))\n",
    "    \n",
    "for pred in predicted:\n",
    "    second.append(read_file(pred))\n",
    "    \n",
    "df_true = build_df(first)\n",
    "df_false = build_df(second)\n",
    "df = pd.merge(left=df_true, right=df_false, left_on=\"item_id\", right_on=\"item_id\", suffixes=(\"_truth\", \"_pred\"))\n",
    "df.head()"
   ]
  },
  {
   "cell_type": "code",
   "execution_count": 19,
   "id": "f96d61c3-2575-43b9-a891-6cb077e30359",
   "metadata": {},
   "outputs": [
    {
     "data": {
      "text/plain": [
       "alternaria    752\n",
       "Name: name_truth, dtype: int64"
      ]
     },
     "execution_count": 19,
     "metadata": {},
     "output_type": "execute_result"
    }
   ],
   "source": [
    "df.name_truth.value_counts()"
   ]
  },
  {
   "cell_type": "code",
   "execution_count": null,
   "id": "d5fd9a05-11d5-4203-bb45-3d31d2a119f4",
   "metadata": {},
   "outputs": [],
   "source": []
  },
  {
   "cell_type": "code",
   "execution_count": 10,
   "id": "8f06cf4e-4533-4209-952f-3e72523a0b9b",
   "metadata": {
    "tags": []
   },
   "outputs": [
    {
     "data": {
      "text/plain": [
       "dict"
      ]
     },
     "execution_count": 10,
     "metadata": {},
     "output_type": "execute_result"
    }
   ],
   "source": [
    "type(data)"
   ]
  },
  {
   "cell_type": "code",
   "execution_count": 21,
   "id": "a860721e-725f-4026-b5b6-21638d659910",
   "metadata": {
    "tags": []
   },
   "outputs": [
    {
     "data": {
      "text/plain": [
       "'alternaria'"
      ]
     },
     "execution_count": 21,
     "metadata": {},
     "output_type": "execute_result"
    }
   ],
   "source": [
    "data[\"item\"]['source_info'][\"item_id\"]\n",
    "data[\"item\"][\"source_info\"]['dataset'][\"name\"]"
   ]
  },
  {
   "cell_type": "code",
   "execution_count": 11,
   "id": "e2468ec1-26bc-4aab-8cda-56cb7fd8ef3f",
   "metadata": {
    "tags": []
   },
   "outputs": [
    {
     "ename": "ValueError",
     "evalue": "Mixing dicts with non-Series may lead to ambiguous ordering.",
     "output_type": "error",
     "traceback": [
      "\u001b[0;31m---------------------------------------------------------------------------\u001b[0m",
      "\u001b[0;31mValueError\u001b[0m                                Traceback (most recent call last)",
      "Cell \u001b[0;32mIn[11], line 1\u001b[0m\n\u001b[0;32m----> 1\u001b[0m \u001b[43mpd\u001b[49m\u001b[38;5;241;43m.\u001b[39;49m\u001b[43mDataFrame\u001b[49m\u001b[38;5;241;43m.\u001b[39;49m\u001b[43mfrom_dict\u001b[49m\u001b[43m(\u001b[49m\u001b[43mdata\u001b[49m\u001b[43m)\u001b[49m\n",
      "File \u001b[0;32m~/anaconda/envs/bioscout/lib/python3.10/site-packages/pandas/core/frame.py:1764\u001b[0m, in \u001b[0;36mDataFrame.from_dict\u001b[0;34m(cls, data, orient, dtype, columns)\u001b[0m\n\u001b[1;32m   1758\u001b[0m     \u001b[38;5;28;01mraise\u001b[39;00m \u001b[38;5;167;01mValueError\u001b[39;00m(\n\u001b[1;32m   1759\u001b[0m         \u001b[38;5;124mf\u001b[39m\u001b[38;5;124m\"\u001b[39m\u001b[38;5;124mExpected \u001b[39m\u001b[38;5;124m'\u001b[39m\u001b[38;5;124mindex\u001b[39m\u001b[38;5;124m'\u001b[39m\u001b[38;5;124m, \u001b[39m\u001b[38;5;124m'\u001b[39m\u001b[38;5;124mcolumns\u001b[39m\u001b[38;5;124m'\u001b[39m\u001b[38;5;124m or \u001b[39m\u001b[38;5;124m'\u001b[39m\u001b[38;5;124mtight\u001b[39m\u001b[38;5;124m'\u001b[39m\u001b[38;5;124m for orient parameter. \u001b[39m\u001b[38;5;124m\"\u001b[39m\n\u001b[1;32m   1760\u001b[0m         \u001b[38;5;124mf\u001b[39m\u001b[38;5;124m\"\u001b[39m\u001b[38;5;124mGot \u001b[39m\u001b[38;5;124m'\u001b[39m\u001b[38;5;132;01m{\u001b[39;00morient\u001b[38;5;132;01m}\u001b[39;00m\u001b[38;5;124m'\u001b[39m\u001b[38;5;124m instead\u001b[39m\u001b[38;5;124m\"\u001b[39m\n\u001b[1;32m   1761\u001b[0m     )\n\u001b[1;32m   1763\u001b[0m \u001b[38;5;28;01mif\u001b[39;00m orient \u001b[38;5;241m!=\u001b[39m \u001b[38;5;124m\"\u001b[39m\u001b[38;5;124mtight\u001b[39m\u001b[38;5;124m\"\u001b[39m:\n\u001b[0;32m-> 1764\u001b[0m     \u001b[38;5;28;01mreturn\u001b[39;00m \u001b[38;5;28;43mcls\u001b[39;49m\u001b[43m(\u001b[49m\u001b[43mdata\u001b[49m\u001b[43m,\u001b[49m\u001b[43m \u001b[49m\u001b[43mindex\u001b[49m\u001b[38;5;241;43m=\u001b[39;49m\u001b[43mindex\u001b[49m\u001b[43m,\u001b[49m\u001b[43m \u001b[49m\u001b[43mcolumns\u001b[49m\u001b[38;5;241;43m=\u001b[39;49m\u001b[43mcolumns\u001b[49m\u001b[43m,\u001b[49m\u001b[43m \u001b[49m\u001b[43mdtype\u001b[49m\u001b[38;5;241;43m=\u001b[39;49m\u001b[43mdtype\u001b[49m\u001b[43m)\u001b[49m\n\u001b[1;32m   1765\u001b[0m \u001b[38;5;28;01melse\u001b[39;00m:\n\u001b[1;32m   1766\u001b[0m     realdata \u001b[38;5;241m=\u001b[39m data[\u001b[38;5;124m\"\u001b[39m\u001b[38;5;124mdata\u001b[39m\u001b[38;5;124m\"\u001b[39m]\n",
      "File \u001b[0;32m~/anaconda/envs/bioscout/lib/python3.10/site-packages/pandas/core/frame.py:664\u001b[0m, in \u001b[0;36mDataFrame.__init__\u001b[0;34m(self, data, index, columns, dtype, copy)\u001b[0m\n\u001b[1;32m    658\u001b[0m     mgr \u001b[38;5;241m=\u001b[39m \u001b[38;5;28mself\u001b[39m\u001b[38;5;241m.\u001b[39m_init_mgr(\n\u001b[1;32m    659\u001b[0m         data, axes\u001b[38;5;241m=\u001b[39m{\u001b[38;5;124m\"\u001b[39m\u001b[38;5;124mindex\u001b[39m\u001b[38;5;124m\"\u001b[39m: index, \u001b[38;5;124m\"\u001b[39m\u001b[38;5;124mcolumns\u001b[39m\u001b[38;5;124m\"\u001b[39m: columns}, dtype\u001b[38;5;241m=\u001b[39mdtype, copy\u001b[38;5;241m=\u001b[39mcopy\n\u001b[1;32m    660\u001b[0m     )\n\u001b[1;32m    662\u001b[0m \u001b[38;5;28;01melif\u001b[39;00m \u001b[38;5;28misinstance\u001b[39m(data, \u001b[38;5;28mdict\u001b[39m):\n\u001b[1;32m    663\u001b[0m     \u001b[38;5;66;03m# GH#38939 de facto copy defaults to False only in non-dict cases\u001b[39;00m\n\u001b[0;32m--> 664\u001b[0m     mgr \u001b[38;5;241m=\u001b[39m \u001b[43mdict_to_mgr\u001b[49m\u001b[43m(\u001b[49m\u001b[43mdata\u001b[49m\u001b[43m,\u001b[49m\u001b[43m \u001b[49m\u001b[43mindex\u001b[49m\u001b[43m,\u001b[49m\u001b[43m \u001b[49m\u001b[43mcolumns\u001b[49m\u001b[43m,\u001b[49m\u001b[43m \u001b[49m\u001b[43mdtype\u001b[49m\u001b[38;5;241;43m=\u001b[39;49m\u001b[43mdtype\u001b[49m\u001b[43m,\u001b[49m\u001b[43m \u001b[49m\u001b[43mcopy\u001b[49m\u001b[38;5;241;43m=\u001b[39;49m\u001b[43mcopy\u001b[49m\u001b[43m,\u001b[49m\u001b[43m \u001b[49m\u001b[43mtyp\u001b[49m\u001b[38;5;241;43m=\u001b[39;49m\u001b[43mmanager\u001b[49m\u001b[43m)\u001b[49m\n\u001b[1;32m    665\u001b[0m \u001b[38;5;28;01melif\u001b[39;00m \u001b[38;5;28misinstance\u001b[39m(data, ma\u001b[38;5;241m.\u001b[39mMaskedArray):\n\u001b[1;32m    666\u001b[0m     \u001b[38;5;28;01mimport\u001b[39;00m \u001b[38;5;21;01mnumpy\u001b[39;00m\u001b[38;5;21;01m.\u001b[39;00m\u001b[38;5;21;01mma\u001b[39;00m\u001b[38;5;21;01m.\u001b[39;00m\u001b[38;5;21;01mmrecords\u001b[39;00m \u001b[38;5;28;01mas\u001b[39;00m \u001b[38;5;21;01mmrecords\u001b[39;00m\n",
      "File \u001b[0;32m~/anaconda/envs/bioscout/lib/python3.10/site-packages/pandas/core/internals/construction.py:493\u001b[0m, in \u001b[0;36mdict_to_mgr\u001b[0;34m(data, index, columns, dtype, typ, copy)\u001b[0m\n\u001b[1;32m    489\u001b[0m     \u001b[38;5;28;01melse\u001b[39;00m:\n\u001b[1;32m    490\u001b[0m         \u001b[38;5;66;03m# dtype check to exclude e.g. range objects, scalars\u001b[39;00m\n\u001b[1;32m    491\u001b[0m         arrays \u001b[38;5;241m=\u001b[39m [x\u001b[38;5;241m.\u001b[39mcopy() \u001b[38;5;28;01mif\u001b[39;00m \u001b[38;5;28mhasattr\u001b[39m(x, \u001b[38;5;124m\"\u001b[39m\u001b[38;5;124mdtype\u001b[39m\u001b[38;5;124m\"\u001b[39m) \u001b[38;5;28;01melse\u001b[39;00m x \u001b[38;5;28;01mfor\u001b[39;00m x \u001b[38;5;129;01min\u001b[39;00m arrays]\n\u001b[0;32m--> 493\u001b[0m \u001b[38;5;28;01mreturn\u001b[39;00m \u001b[43marrays_to_mgr\u001b[49m\u001b[43m(\u001b[49m\u001b[43marrays\u001b[49m\u001b[43m,\u001b[49m\u001b[43m \u001b[49m\u001b[43mcolumns\u001b[49m\u001b[43m,\u001b[49m\u001b[43m \u001b[49m\u001b[43mindex\u001b[49m\u001b[43m,\u001b[49m\u001b[43m \u001b[49m\u001b[43mdtype\u001b[49m\u001b[38;5;241;43m=\u001b[39;49m\u001b[43mdtype\u001b[49m\u001b[43m,\u001b[49m\u001b[43m \u001b[49m\u001b[43mtyp\u001b[49m\u001b[38;5;241;43m=\u001b[39;49m\u001b[43mtyp\u001b[49m\u001b[43m,\u001b[49m\u001b[43m \u001b[49m\u001b[43mconsolidate\u001b[49m\u001b[38;5;241;43m=\u001b[39;49m\u001b[43mcopy\u001b[49m\u001b[43m)\u001b[49m\n",
      "File \u001b[0;32m~/anaconda/envs/bioscout/lib/python3.10/site-packages/pandas/core/internals/construction.py:118\u001b[0m, in \u001b[0;36marrays_to_mgr\u001b[0;34m(arrays, columns, index, dtype, verify_integrity, typ, consolidate)\u001b[0m\n\u001b[1;32m    115\u001b[0m \u001b[38;5;28;01mif\u001b[39;00m verify_integrity:\n\u001b[1;32m    116\u001b[0m     \u001b[38;5;66;03m# figure out the index, if necessary\u001b[39;00m\n\u001b[1;32m    117\u001b[0m     \u001b[38;5;28;01mif\u001b[39;00m index \u001b[38;5;129;01mis\u001b[39;00m \u001b[38;5;28;01mNone\u001b[39;00m:\n\u001b[0;32m--> 118\u001b[0m         index \u001b[38;5;241m=\u001b[39m \u001b[43m_extract_index\u001b[49m\u001b[43m(\u001b[49m\u001b[43marrays\u001b[49m\u001b[43m)\u001b[49m\n\u001b[1;32m    119\u001b[0m     \u001b[38;5;28;01melse\u001b[39;00m:\n\u001b[1;32m    120\u001b[0m         index \u001b[38;5;241m=\u001b[39m ensure_index(index)\n",
      "File \u001b[0;32m~/anaconda/envs/bioscout/lib/python3.10/site-packages/pandas/core/internals/construction.py:669\u001b[0m, in \u001b[0;36m_extract_index\u001b[0;34m(data)\u001b[0m\n\u001b[1;32m    666\u001b[0m     \u001b[38;5;28;01mraise\u001b[39;00m \u001b[38;5;167;01mValueError\u001b[39;00m(\u001b[38;5;124m\"\u001b[39m\u001b[38;5;124mAll arrays must be of the same length\u001b[39m\u001b[38;5;124m\"\u001b[39m)\n\u001b[1;32m    668\u001b[0m \u001b[38;5;28;01mif\u001b[39;00m have_dicts:\n\u001b[0;32m--> 669\u001b[0m     \u001b[38;5;28;01mraise\u001b[39;00m \u001b[38;5;167;01mValueError\u001b[39;00m(\n\u001b[1;32m    670\u001b[0m         \u001b[38;5;124m\"\u001b[39m\u001b[38;5;124mMixing dicts with non-Series may lead to ambiguous ordering.\u001b[39m\u001b[38;5;124m\"\u001b[39m\n\u001b[1;32m    671\u001b[0m     )\n\u001b[1;32m    673\u001b[0m \u001b[38;5;28;01mif\u001b[39;00m have_series:\n\u001b[1;32m    674\u001b[0m     \u001b[38;5;28;01massert\u001b[39;00m index \u001b[38;5;129;01mis\u001b[39;00m \u001b[38;5;129;01mnot\u001b[39;00m \u001b[38;5;28;01mNone\u001b[39;00m  \u001b[38;5;66;03m# for mypy\u001b[39;00m\n",
      "\u001b[0;31mValueError\u001b[0m: Mixing dicts with non-Series may lead to ambiguous ordering."
     ]
    }
   ],
   "source": [
    "pd.DataFrame.from_dict(data, )"
   ]
  },
  {
   "cell_type": "code",
   "execution_count": null,
   "id": "b59653f8-8c13-4e2d-b068-366c25425dc2",
   "metadata": {},
   "outputs": [],
   "source": []
  }
 ],
 "metadata": {
  "kernelspec": {
   "display_name": "Python 3 (ipykernel)",
   "language": "python",
   "name": "python3"
  },
  "language_info": {
   "codemirror_mode": {
    "name": "ipython",
    "version": 3
   },
   "file_extension": ".py",
   "mimetype": "text/x-python",
   "name": "python",
   "nbconvert_exporter": "python",
   "pygments_lexer": "ipython3",
   "version": "3.10.9"
  }
 },
 "nbformat": 4,
 "nbformat_minor": 5
}
